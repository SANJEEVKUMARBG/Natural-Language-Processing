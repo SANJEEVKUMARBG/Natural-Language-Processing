{
 "cells": [
  {
   "cell_type": "code",
   "execution_count": 1,
   "id": "5bf50137",
   "metadata": {},
   "outputs": [],
   "source": [
    "import spacy"
   ]
  },
  {
   "cell_type": "code",
   "execution_count": 2,
   "id": "c0e44df7",
   "metadata": {},
   "outputs": [],
   "source": [
    "#creating blank english language component\n",
    "nlp = spacy.blank(\"en\")"
   ]
  },
  {
   "cell_type": "code",
   "execution_count": 4,
   "id": "61feaf4c",
   "metadata": {},
   "outputs": [
    {
     "name": "stdout",
     "output_type": "stream",
     "text": [
      "This\n",
      "is\n",
      "Sanjeev\n",
      "Kumar\n",
      ".\n",
      "I\n",
      "love\n",
      "Biryani\n",
      ".\n",
      "I\n",
      "am\n",
      "from\n",
      "Hyderabad\n"
     ]
    }
   ],
   "source": [
    "#create a document\n",
    "doc = nlp(\"This is Sanjeev Kumar. I love Biryani. I am from Hyderabad\")\n",
    "for token in doc:\n",
    "    print(token)"
   ]
  },
  {
   "cell_type": "code",
   "execution_count": 5,
   "id": "455825f7",
   "metadata": {},
   "outputs": [
    {
     "data": {
      "text/plain": [
       "spacy.lang.en.English"
      ]
     },
     "execution_count": 5,
     "metadata": {},
     "output_type": "execute_result"
    }
   ],
   "source": [
    "type(nlp)"
   ]
  },
  {
   "cell_type": "code",
   "execution_count": 6,
   "id": "1e494171",
   "metadata": {},
   "outputs": [
    {
     "data": {
      "text/plain": [
       "spacy.tokens.doc.Doc"
      ]
     },
     "execution_count": 6,
     "metadata": {},
     "output_type": "execute_result"
    }
   ],
   "source": [
    "type(doc)"
   ]
  },
  {
   "cell_type": "code",
   "execution_count": 7,
   "id": "8955b42f",
   "metadata": {},
   "outputs": [
    {
     "data": {
      "text/plain": [
       "spacy.tokens.token.Token"
      ]
     },
     "execution_count": 7,
     "metadata": {},
     "output_type": "execute_result"
    }
   ],
   "source": [
    "type(token)"
   ]
  },
  {
   "cell_type": "code",
   "execution_count": 8,
   "id": "b9c8acb6",
   "metadata": {},
   "outputs": [
    {
     "data": {
      "text/plain": [
       "This is Sanjeev Kumar."
      ]
     },
     "execution_count": 8,
     "metadata": {},
     "output_type": "execute_result"
    }
   ],
   "source": [
    "doc[0:5]"
   ]
  },
  {
   "cell_type": "code",
   "execution_count": 9,
   "id": "cfa6f035",
   "metadata": {},
   "outputs": [],
   "source": [
    "sent = nlp(\"I bought a car for $5000.\")"
   ]
  },
  {
   "cell_type": "code",
   "execution_count": 10,
   "id": "66662b38",
   "metadata": {},
   "outputs": [
    {
     "name": "stdout",
     "output_type": "stream",
     "text": [
      "I\n",
      "bought\n",
      "a\n",
      "car\n",
      "for\n",
      "$\n",
      "5000\n",
      ".\n"
     ]
    }
   ],
   "source": [
    "for token in sent:\n",
    "    print(token)"
   ]
  },
  {
   "cell_type": "code",
   "execution_count": 18,
   "id": "2c02684c",
   "metadata": {},
   "outputs": [
    {
     "name": "stdout",
     "output_type": "stream",
     "text": [
      "bought\n",
      "bought\n",
      "True\n"
     ]
    }
   ],
   "source": [
    "token1 = sent[1]\n",
    "print(token1)\n",
    "print(token1.text)\n",
    "print(token1.is_alpha)"
   ]
  },
  {
   "cell_type": "code",
   "execution_count": 16,
   "id": "d240f858",
   "metadata": {},
   "outputs": [
    {
     "name": "stdout",
     "output_type": "stream",
     "text": [
      "$\n"
     ]
    },
    {
     "data": {
      "text/plain": [
       "True"
      ]
     },
     "execution_count": 16,
     "metadata": {},
     "output_type": "execute_result"
    }
   ],
   "source": [
    "token2 = sent[5]\n",
    "print(token2)\n",
    "token2.is_currency"
   ]
  },
  {
   "cell_type": "code",
   "execution_count": 19,
   "id": "3dc5998f",
   "metadata": {},
   "outputs": [
    {
     "name": "stdout",
     "output_type": "stream",
     "text": [
      "5000\n"
     ]
    },
    {
     "data": {
      "text/plain": [
       "True"
      ]
     },
     "execution_count": 19,
     "metadata": {},
     "output_type": "execute_result"
    }
   ],
   "source": [
    "token3 = sent[6]\n",
    "print(token3)\n",
    "token3.like_num"
   ]
  },
  {
   "cell_type": "code",
   "execution_count": 20,
   "id": "2e5d3545",
   "metadata": {},
   "outputs": [],
   "source": [
    "text = \"'Dayton high school, 8th grade students information\\n ==================================================\\n \\n Name\\tbirth day   \\temail\\n -----\\t------------\\t------\\n Virat   5 June, 1882    virat@kohli.com\\n Maria\\t12 April, 2001  maria@sharapova.com\\n Serena  24 June, 1998   serena@williams.com \\n Joe      1 May, 1997    joe@root.com\\n \\n \\n \\n'\""
   ]
  },
  {
   "cell_type": "code",
   "execution_count": 21,
   "id": "6ec8d9f7",
   "metadata": {},
   "outputs": [],
   "source": [
    "doc = nlp(text)"
   ]
  },
  {
   "cell_type": "code",
   "execution_count": 22,
   "id": "eabab41a",
   "metadata": {},
   "outputs": [
    {
     "data": {
      "text/plain": [
       "['virat@kohli.com',\n",
       " 'maria@sharapova.com',\n",
       " 'serena@williams.com',\n",
       " 'joe@root.com']"
      ]
     },
     "execution_count": 22,
     "metadata": {},
     "output_type": "execute_result"
    }
   ],
   "source": [
    "#Extracting mail ID's from the text\n",
    "emails = []\n",
    "\n",
    "for token in doc:\n",
    "    if token.like_email:\n",
    "        emails.append(token.text)\n",
    "emails"
   ]
  },
  {
   "cell_type": "code",
   "execution_count": 23,
   "id": "bec3f4db",
   "metadata": {},
   "outputs": [],
   "source": [
    "text1='''\n",
    "Look for data to help you address the question. Governments are good\n",
    "sources because data from public research is often freely available. Good\n",
    "places to start include http://www.data.gov/, and http://www.science.\n",
    "gov/, and in the United Kingdom, http://data.gov.uk/.\n",
    "Two of my favorite data sets are the General Social Survey at http://www3.norc.org/gss+website/, \n",
    "and the European Social Survey at http://www.europeansocialsurvey.org/.\n",
    "'''"
   ]
  },
  {
   "cell_type": "code",
   "execution_count": 24,
   "id": "14d46e48",
   "metadata": {},
   "outputs": [],
   "source": [
    "doc1 = nlp(text1)"
   ]
  },
  {
   "cell_type": "code",
   "execution_count": 25,
   "id": "470bd82a",
   "metadata": {},
   "outputs": [
    {
     "data": {
      "text/plain": [
       "[http://www.data.gov/,\n",
       " http://www.science,\n",
       " http://data.gov.uk/.,\n",
       " http://www3.norc.org/gss+website/,\n",
       " http://www.europeansocialsurvey.org/.]"
      ]
     },
     "execution_count": 25,
     "metadata": {},
     "output_type": "execute_result"
    }
   ],
   "source": [
    "#Extracting url's from the above text\n",
    "\n",
    "urls= []\n",
    "\n",
    "for token in doc1:\n",
    "    if token.like_url:\n",
    "        urls.append(token)\n",
    "urls\n",
    "    "
   ]
  },
  {
   "cell_type": "code",
   "execution_count": 28,
   "id": "cecc02e2",
   "metadata": {},
   "outputs": [
    {
     "name": "stdout",
     "output_type": "stream",
     "text": [
      "two $\n",
      "500 €\n"
     ]
    }
   ],
   "source": [
    "#Extracting currency symbols or words from the below text\n",
    "\n",
    "transactions = \"Tony gave two $ to Peter, Bruce gave 500 € to Steve\"\n",
    "\n",
    "doc2 = nlp(transactions)\n",
    "\n",
    "\n",
    "for token in doc2:\n",
    "    if token.like_num and doc2[token.i+1].is_currency:\n",
    "        print(token.text, doc2[token.i+1].text)"
   ]
  }
 ],
 "metadata": {
  "kernelspec": {
   "display_name": "Python 3 (ipykernel)",
   "language": "python",
   "name": "python3"
  },
  "language_info": {
   "codemirror_mode": {
    "name": "ipython",
    "version": 3
   },
   "file_extension": ".py",
   "mimetype": "text/x-python",
   "name": "python",
   "nbconvert_exporter": "python",
   "pygments_lexer": "ipython3",
   "version": "3.9.12"
  }
 },
 "nbformat": 4,
 "nbformat_minor": 5
}

{
 "cells": [
  {
   "cell_type": "markdown",
   "id": "71f7cd6d",
   "metadata": {},
   "source": [
    "## spaCy vs NLTK\n",
    "\n",
    "- spaCy is a newer library that is designed specifically for NLP tasks and focuses on efficiency, performance, and ease of use. It has a clean API, fast processing speeds, and provides pre-trained models for common NLP tasks such as tokenization, part-of-speech tagging, dependency parsing, named entity recognition, and more. spaCy is best suited for production-level NLP tasks, where speed and accuracy are important.\n",
    "\n",
    "- NLTK is a more general-purpose NLP library that provides a wide range of tools and resources for NLP tasks. It includes an extensive set of corpora and lexical resources, and is commonly used for educational and research purposes. NLTK provides a more flexible and customizable API than spaCy, and is best suited for more complex NLP tasks that require a higher degree of customization. However, it is slower than spaCy and may not be the best choice for large-scale NLP tasks."
   ]
  },
  {
   "cell_type": "code",
   "execution_count": 3,
   "id": "1870c755",
   "metadata": {},
   "outputs": [],
   "source": [
    "import spacy"
   ]
  },
  {
   "cell_type": "code",
   "execution_count": 4,
   "id": "21df91bd",
   "metadata": {},
   "outputs": [],
   "source": [
    "nlp = spacy.load(\"en_core_web_sm\")"
   ]
  },
  {
   "cell_type": "raw",
   "id": "08cd960d",
   "metadata": {},
   "source": [
    "Sentence Tokentization"
   ]
  },
  {
   "cell_type": "code",
   "execution_count": 6,
   "id": "9b9f7be8",
   "metadata": {},
   "outputs": [
    {
     "name": "stdout",
     "output_type": "stream",
     "text": [
      "I love Maridian Biryani.\n",
      "And Maha loves Pasta\n"
     ]
    }
   ],
   "source": [
    "doc = nlp(\"I love Maridian Biryani. And Maha loves Pasta\")\n",
    "\n",
    "for sentence in doc.sents:\n",
    "    print(sentence)"
   ]
  },
  {
   "cell_type": "code",
   "execution_count": 7,
   "id": "45f6e11a",
   "metadata": {},
   "outputs": [
    {
     "name": "stdout",
     "output_type": "stream",
     "text": [
      "I\n",
      "love\n",
      "Maridian\n",
      "Biryani\n",
      ".\n",
      "And\n",
      "Maha\n",
      "loves\n",
      "Pasta\n"
     ]
    }
   ],
   "source": [
    "for sentence in doc.sents:\n",
    "    for word in sentence:\n",
    "        print(word)"
   ]
  },
  {
   "cell_type": "code",
   "execution_count": 8,
   "id": "c1352c47",
   "metadata": {},
   "outputs": [],
   "source": [
    "import nltk"
   ]
  },
  {
   "cell_type": "code",
   "execution_count": 9,
   "id": "d6117095",
   "metadata": {},
   "outputs": [],
   "source": [
    "from nltk.tokenize import sent_tokenize"
   ]
  },
  {
   "cell_type": "code",
   "execution_count": 10,
   "id": "7216e83d",
   "metadata": {},
   "outputs": [
    {
     "data": {
      "text/plain": [
       "['I love Maridian Biryani.', 'And Maha loves Pasta']"
      ]
     },
     "execution_count": 10,
     "metadata": {},
     "output_type": "execute_result"
    }
   ],
   "source": [
    "sent_tokenize(\"I love Maridian Biryani. And Maha loves Pasta\")"
   ]
  },
  {
   "cell_type": "code",
   "execution_count": 11,
   "id": "9b583d44",
   "metadata": {},
   "outputs": [
    {
     "data": {
      "text/plain": [
       "['I', 'love', 'Maridian', 'Biryani', '.', 'And', 'Maha', 'loves', 'Pasta']"
      ]
     },
     "execution_count": 11,
     "metadata": {},
     "output_type": "execute_result"
    }
   ],
   "source": [
    "from nltk.tokenize import word_tokenize\n",
    "\n",
    "word_tokenize(\"I love Maridian Biryani. And Maha loves Pasta\")"
   ]
  },
  {
   "cell_type": "code",
   "execution_count": null,
   "id": "42c738da",
   "metadata": {},
   "outputs": [],
   "source": []
  }
 ],
 "metadata": {
  "kernelspec": {
   "display_name": "Python 3 (ipykernel)",
   "language": "python",
   "name": "python3"
  },
  "language_info": {
   "codemirror_mode": {
    "name": "ipython",
    "version": 3
   },
   "file_extension": ".py",
   "mimetype": "text/x-python",
   "name": "python",
   "nbconvert_exporter": "python",
   "pygments_lexer": "ipython3",
   "version": "3.9.12"
  }
 },
 "nbformat": 4,
 "nbformat_minor": 5
}

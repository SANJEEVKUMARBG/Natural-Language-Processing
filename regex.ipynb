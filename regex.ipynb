{
 "cells": [
  {
   "cell_type": "code",
   "execution_count": 38,
   "id": "5df0ddf7",
   "metadata": {},
   "outputs": [],
   "source": [
    "# Used regex101 (https://regex101.com/) to find patterns"
   ]
  },
  {
   "cell_type": "code",
   "execution_count": 39,
   "id": "4b3c0c2d",
   "metadata": {},
   "outputs": [],
   "source": [
    "import re"
   ]
  },
  {
   "cell_type": "code",
   "execution_count": 40,
   "id": "8bb29579",
   "metadata": {},
   "outputs": [],
   "source": [
    "chat1='Sanjeev: Hello, I am having an issue with my order # 412889912'\n",
    "chat2='Sanjeev: I have a problem with my order number 412889912'\n",
    "chat3='Sanjeev: My order 412889912 is having an issue, I was charged 300$ when online it says 280$'"
   ]
  },
  {
   "cell_type": "markdown",
   "id": "492f35bf",
   "metadata": {},
   "source": [
    "Chat1,2,3 are the messages that I sent in the chatbot, using regex lets get the orderID part - Pattern Matching"
   ]
  },
  {
   "cell_type": "code",
   "execution_count": 41,
   "id": "5cee2846",
   "metadata": {},
   "outputs": [
    {
     "data": {
      "text/plain": [
       "['412889912']"
      ]
     },
     "execution_count": 41,
     "metadata": {},
     "output_type": "execute_result"
    }
   ],
   "source": [
    "pattern = '\\d{9}'\n",
    "matches = re.findall(pattern, chat2)\n",
    "matches"
   ]
  },
  {
   "cell_type": "code",
   "execution_count": 42,
   "id": "cc84a49f",
   "metadata": {},
   "outputs": [],
   "source": [
    "reply1 = 'Sanjeev: This is annoying. 52364178 is order ID, kumar@gmail.com, 9632587410'\n",
    "reply2 = 'Rahul: Hello babazon.Here is my orderID: 65248793, my MailID: rahul@ymail.com and contact number 7895462101'"
   ]
  },
  {
   "cell_type": "raw",
   "id": "2028483f",
   "metadata": {},
   "source": [
    "To extract the mailID from the replay"
   ]
  },
  {
   "cell_type": "code",
   "execution_count": 43,
   "id": "88594d9d",
   "metadata": {},
   "outputs": [
    {
     "name": "stdout",
     "output_type": "stream",
     "text": [
      "['kumar@gmail.com'] ['rahul@ymail.com']\n"
     ]
    }
   ],
   "source": [
    "pattern = '[a-z0-9A-Z_]*@[a-z0-9A-Z]*\\.com'\n",
    "match1 = re.findall(pattern,reply1)\n",
    "match2 = re.findall(pattern, reply2)\n",
    "print(match1, match2)"
   ]
  },
  {
   "cell_type": "code",
   "execution_count": null,
   "id": "90f1f9e3",
   "metadata": {},
   "outputs": [],
   "source": []
  }
 ],
 "metadata": {
  "kernelspec": {
   "display_name": "Python 3 (ipykernel)",
   "language": "python",
   "name": "python3"
  },
  "language_info": {
   "codemirror_mode": {
    "name": "ipython",
    "version": 3
   },
   "file_extension": ".py",
   "mimetype": "text/x-python",
   "name": "python",
   "nbconvert_exporter": "python",
   "pygments_lexer": "ipython3",
   "version": "3.9.12"
  }
 },
 "nbformat": 4,
 "nbformat_minor": 5
}
